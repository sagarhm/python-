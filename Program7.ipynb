{
 "cells": [
  {
   "cell_type": "code",
   "execution_count": 1,
   "metadata": {},
   "outputs": [
    {
     "name": "stdout",
     "output_type": "stream",
     "text": [
      "Array:\n",
      " [[4 4 5]\n",
      " [9 6 1]\n",
      " [4 7 2]\n",
      " [1 1 3]]\n",
      "Shape: (4, 3)\n",
      "Dimensions: 2\n",
      "Size: 12\n",
      "Data Type: int32\n"
     ]
    }
   ],
   "source": [
    "import numpy as np\n",
    "\n",
    "# Create a m x n integer array\n",
    "m = 4\n",
    "n = 3\n",
    "arr = np.random.randint(10, size=(m, n))\n",
    "\n",
    "# Print the array attributes\n",
    "print(\"Array:\\n\", arr)\n",
    "print(\"Shape:\", arr.shape)\n",
    "print(\"Dimensions:\", arr.ndim)\n",
    "print(\"Size:\", arr.size)\n",
    "print(\"Data Type:\", arr.dtype)\n"
   ]
  }
 ],
 "metadata": {
  "kernelspec": {
   "display_name": "Python 3",
   "language": "python",
   "name": "python3"
  },
  "language_info": {
   "codemirror_mode": {
    "name": "ipython",
    "version": 3
   },
   "file_extension": ".py",
   "mimetype": "text/x-python",
   "name": "python",
   "nbconvert_exporter": "python",
   "pygments_lexer": "ipython3",
   "version": "3.10.10"
  },
  "orig_nbformat": 4,
  "vscode": {
   "interpreter": {
    "hash": "7f4ec58e355ec7756ef01d0d1edf3bc883e07c65dfe39f910c1bb24945b8f261"
   }
  }
 },
 "nbformat": 4,
 "nbformat_minor": 2
}
